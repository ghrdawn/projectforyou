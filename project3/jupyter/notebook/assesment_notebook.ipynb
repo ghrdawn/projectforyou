{
 "cells": [
  {
   "cell_type": "code",
   "execution_count": 1,
   "metadata": {},
   "outputs": [],
   "source": [
    "import findspark\n",
    "findspark.init()"
   ]
  },
  {
   "cell_type": "code",
   "execution_count": 2,
   "metadata": {},
   "outputs": [],
   "source": [
    "from pyspark.sql import SparkSession\n",
    "\n",
    "spark = SparkSession.builder. \\\n",
    "    appName(\"pyspark-1\"). \\\n",
    "    getOrCreate()"
   ]
  },
  {
   "cell_type": "markdown",
   "metadata": {},
   "source": [
    "### Read data"
   ]
  },
  {
   "cell_type": "code",
   "execution_count": 17,
   "metadata": {},
   "outputs": [],
   "source": [
    "from pyspark.sql.types import StructType, StructField, StringType, IntegerType, DoubleType\n",
    "\n",
    "schema = StructType([\n",
    "    StructField('Job ID', StringType(), True),\n",
    "    StructField('Agency', StringType(), True),\n",
    "    StructField('Posting Type', StringType(), True),\n",
    "    StructField('# Of Positions', IntegerType(), True),\n",
    "    StructField('Business Title', StringType(), True),\n",
    "    StructField('Civil Service Title', StringType(), True),\n",
    "    StructField('Title Code No', StringType(), True),\n",
    "    StructField('Level', StringType(), True),\n",
    "    StructField('Job Category', StringType(), True),\n",
    "    StructField('Full-Time/Part-Time indicator', StringType(), True),\n",
    "    StructField('Salary Range From', DoubleType(), True),\n",
    "    StructField('Salary Range To', DoubleType(), True),\n",
    "    StructField('Salary Frequency', StringType(), True),\n",
    "    StructField('Work Location', StringType(), True),\n",
    "    StructField('Division/Work Unit', StringType(), True),\n",
    "    StructField('Job Description', StringType(), True),\n",
    "    StructField('Minimum Qual Requirements', StringType(), True),\n",
    "    StructField('Preferred Skills', StringType(), True),\n",
    "    StructField('Additional Information', StringType(), True),\n",
    "    StructField('To Apply', StringType(), True),\n",
    "    StructField('Hours/Shift', StringType(), True),\n",
    "    StructField('Work Location 1', StringType(), True),\n",
    "    StructField('Recruitment Contact', StringType(), True),\n",
    "    StructField('Residency Requirement', StringType(), True),\n",
    "    StructField('Posting Date', StringType(), True),\n",
    "    StructField('Post Until', StringType(), True),\n",
    "    StructField('Posting Updated', StringType(), True),\n",
    "    StructField('Process Date', StringType(), True)\n",
    "])"
   ]
  },
  {
   "cell_type": "code",
   "execution_count": 19,
   "metadata": {},
   "outputs": [
    {
     "name": "stdout",
     "output_type": "stream",
     "text": [
      "root\n",
      " |-- Job ID: string (nullable = true)\n",
      " |-- Agency: string (nullable = true)\n",
      " |-- Posting Type: string (nullable = true)\n",
      " |-- # Of Positions: integer (nullable = true)\n",
      " |-- Business Title: string (nullable = true)\n",
      " |-- Civil Service Title: string (nullable = true)\n",
      " |-- Title Code No: string (nullable = true)\n",
      " |-- Level: string (nullable = true)\n",
      " |-- Job Category: string (nullable = true)\n",
      " |-- Full-Time/Part-Time indicator: string (nullable = true)\n",
      " |-- Salary Range From: double (nullable = true)\n",
      " |-- Salary Range To: double (nullable = true)\n",
      " |-- Salary Frequency: string (nullable = true)\n",
      " |-- Work Location: string (nullable = true)\n",
      " |-- Division/Work Unit: string (nullable = true)\n",
      " |-- Job Description: string (nullable = true)\n",
      " |-- Minimum Qual Requirements: string (nullable = true)\n",
      " |-- Preferred Skills: string (nullable = true)\n",
      " |-- Additional Information: string (nullable = true)\n",
      " |-- To Apply: string (nullable = true)\n",
      " |-- Hours/Shift: string (nullable = true)\n",
      " |-- Work Location 1: string (nullable = true)\n",
      " |-- Recruitment Contact: string (nullable = true)\n",
      " |-- Residency Requirement: string (nullable = true)\n",
      " |-- Posting Date: string (nullable = true)\n",
      " |-- Post Until: string (nullable = true)\n",
      " |-- Posting Updated: string (nullable = true)\n",
      " |-- Process Date: string (nullable = true)\n",
      "\n"
     ]
    }
   ],
   "source": [
    "df = spark.read.csv(\"/dataset/nyc-jobs.csv\", header=True, schema=schema)\n",
    "df.printSchema()"
   ]
  },
  {
   "cell_type": "markdown",
   "metadata": {},
   "source": [
    "### Sample function"
   ]
  },
  {
   "cell_type": "code",
   "execution_count": 28,
   "metadata": {},
   "outputs": [],
   "source": [
    "from pyspark.sql import DataFrame\n",
    "from pyspark.sql.functions import col,max,min"
   ]
  },
  {
   "cell_type": "code",
   "execution_count": 20,
   "metadata": {},
   "outputs": [],
   "source": [
    "def get_salary_frequency(df: DataFrame) -> list:\n",
    "    row_list = df.select('Salary Frequency').distinct().collect()\n",
    "    return [row['Salary Frequency'] for row in row_list]"
   ]
  },
  {
   "cell_type": "markdown",
   "metadata": {},
   "source": [
    "**Whats the number of jobs posting per category (Top 10)?**"
   ]
  },
  {
   "cell_type": "code",
   "execution_count": 21,
   "metadata": {},
   "outputs": [],
   "source": [
    "def get_top10_jobs_posting_per_category(df: DataFrame) -> list:\n",
    "    job_posting_per_category = df.groupBy('Job Category').count().orderBy(col('count').desc())\n",
    "    return [(row[0], row[1]) for row in job_posting_per_category.take(10)]"
   ]
  },
  {
   "cell_type": "code",
   "execution_count": 22,
   "metadata": {},
   "outputs": [
    {
     "data": {
      "text/plain": [
       "[('Engineering, Architecture, & Planning', 504),\n",
       " ('Technology, Data & Innovation', 313),\n",
       " ('Legal Affairs', 226),\n",
       " ('Public Safety, Inspections, & Enforcement', 182),\n",
       " ('Building Operations & Maintenance', 181),\n",
       " ('Finance, Accounting, & Procurement', 169),\n",
       " ('Administration & Human Resources', 134),\n",
       " ('Constituent Services & Community Programs', 129),\n",
       " ('Health', 125),\n",
       " ('Policy, Research & Analysis', 124)]"
      ]
     },
     "execution_count": 22,
     "metadata": {},
     "output_type": "execute_result"
    }
   ],
   "source": [
    "get_top10_jobs_posting_per_category(df)"
   ]
  },
  {
   "cell_type": "markdown",
   "metadata": {},
   "source": [
    "**Whats the salary distribution per job category?**"
   ]
  },
  {
   "cell_type": "code",
   "execution_count": 32,
   "metadata": {},
   "outputs": [],
   "source": [
    "def get_salary_distribution_per_job_category(df: DataFrame) -> list:\n",
    "    salary_distribution_per_job_category = df.groupBy(col('Job Category'))\\\n",
    "                                            .agg(min(col('Salary Range From')).alias('Salary Range From')\\\n",
    "                                                 , max(col('Salary Range To')).alias('Salary Range To'))\n",
    "\n",
    "    return [(row[0], row[1], row[2]) for row in salary_distribution_per_job_category.collect()]"
   ]
  },
  {
   "cell_type": "code",
   "execution_count": 33,
   "metadata": {},
   "outputs": [
    {
     "data": {
      "text/plain": [
       "[('Administration & Human Resources Communications & Intergovernmental Affairs Engineering, Architecture, & Planning Policy, Research & Analysis',\n",
       "  90000.0,\n",
       "  100000.0),\n",
       " ('Health Policy, Research & Analysis Public Safety, Inspections, & Enforcement',\n",
       "  82008.0,\n",
       "  180000.0),\n",
       " ('Administration & Human Resources Building Operations & Maintenance Policy, Research & Analysis',\n",
       "  54100.0,\n",
       "  83981.0),\n",
       " ('Information Technology & Telecommunications Policy & Analysis Social Services',\n",
       "  68239.0,\n",
       "  85644.0),\n",
       " ('Finance, Accounting, & Procurement Public Safety, Inspections, & Enforcement',\n",
       "  55659.0,\n",
       "  70390.0),\n",
       " ('Engineering, Architecture, & Planning Building Operations & Maintenance Public Safety, Inspections, & Enforcement',\n",
       "  539.12,\n",
       "  118610.0),\n",
       " ('Legal Affairs Policy, Research & Analysis Public Safety, Inspections, & Enforcement',\n",
       "  54165.0,\n",
       "  168433.0),\n",
       " ('Administration & Human Resources Finance, Accounting, & Procurement Building Operations & Maintenance Policy, Research & Analysis',\n",
       "  45491.0,\n",
       "  60660.0),\n",
       " ('Constituent Services & Community Programs', 15.5, 156829.0),\n",
       " ('Building Operations & Maintenance', 15.5, 234402.0),\n",
       " ('Engineering, Architecture, & Planning Policy, Research & Analysis Public Safety, Inspections, & Enforcement',\n",
       "  69940.0,\n",
       "  186555.0),\n",
       " ('Constituent Services & Community Programs Policy, Research & Analysis Social Services',\n",
       "  52524.0,\n",
       "  81535.0),\n",
       " ('Administration & Human Resources Technology, Data & Innovation Building Operations & Maintenance',\n",
       "  65731.0,\n",
       "  75591.0),\n",
       " ('Legal Affairs', 19.9179, 208826.0),\n",
       " ('Engineering, Architecture, & Planning Finance, Accounting, & Procurement Policy, Research & Analysis',\n",
       "  15.5,\n",
       "  19.9),\n",
       " ('Finance, Accounting, & Procurement Legal Affairs', 38851.0, 133040.0),\n",
       " ('Constituent Services & Community Programs Technology, Data & Innovation Policy, Research & Analysis Social Services',\n",
       "  15.5,\n",
       "  15.5),\n",
       " ('Administration & Human Resources Constituent Services & Community Programs Communications & Intergovernmental Affairs Finance, Accounting, & Procurement Legal Affairs Policy, Research & Analysis',\n",
       "  15.5,\n",
       "  19.9),\n",
       " ('Health Legal Affairs', 61237.0, 81801.0),\n",
       " ('Administration & Human Resources Social Services', 27.9267, 58987.0),\n",
       " ('Administration & Human Resources Legal Affairs Policy, Research & Analysis',\n",
       "  45000.0,\n",
       "  65000.0),\n",
       " ('Public Safety, Inspections, & Enforcement Social Services',\n",
       "  43799.0,\n",
       "  74672.0),\n",
       " ('Maintenance & Operations', 35.0, 65458.8),\n",
       " (None, 42405.0, 162014.0),\n",
       " ('Constituent Services & Community Programs Building Operations & Maintenance',\n",
       "  54638.0,\n",
       "  62834.0),\n",
       " ('Constituent Services & Community Programs Public Safety, Inspections, & Enforcement',\n",
       "  38851.0,\n",
       "  81535.0),\n",
       " ('Administration & Human Resources Finance, Accounting, & Procurement Building Operations & Maintenance',\n",
       "  218587.0,\n",
       "  218587.0),\n",
       " ('Administration & Human Resources Technology, Data & Innovation Policy, Research & Analysis Public Safety, Inspections, & Enforcement',\n",
       "  65731.0,\n",
       "  75591.0),\n",
       " ('Clerical & Administrative Support Legal', 37492.0, 60611.0),\n",
       " ('Finance, Accounting, & Procurement Health', 58440.0, 72360.0),\n",
       " ('Engineering, Architecture, & Planning Maintenance & Operations',\n",
       "  198518.0,\n",
       "  198518.0),\n",
       " ('Communications & Intergovernmental Affairs Finance, Accounting, & Procurement Policy, Research & Analysis',\n",
       "  45491.0,\n",
       "  68244.0),\n",
       " ('Administration & Human Resources Communications & Intergovernmental Affairs Health Public Safety, Inspections, & Enforcement',\n",
       "  65374.0,\n",
       "  98908.0),\n",
       " ('Administration & Human Resources Finance, Accounting, & Procurement',\n",
       "  43473.0,\n",
       "  224749.0),\n",
       " ('Health', 15.2878, 225217.0),\n",
       " ('Communications & Intergovernmental Affairs Public Safety, Inspections, & Enforcement',\n",
       "  15.5747,\n",
       "  17.91),\n",
       " ('Administration & Human Resources Legal Affairs', 15.5, 103663.0),\n",
       " ('Communications & Intergovernmental Affairs Finance, Accounting, & Procurement',\n",
       "  54100.0,\n",
       "  83981.0),\n",
       " ('Constituent Services & Community Programs Policy, Research & Analysis Public Safety, Inspections, & Enforcement',\n",
       "  52524.0,\n",
       "  65000.0),\n",
       " ('Engineering, Architecture, & Planning Policy, Research & Analysis',\n",
       "  45617.0,\n",
       "  194395.0),\n",
       " ('Health Social Services', 69300.0, 81000.0),\n",
       " ('Clerical & Administrative Support', 8.75, 62779.0),\n",
       " ('Policy, Research & Analysis Social Services', 60435.0, 115000.0),\n",
       " ('Communications & Intergovernmental Affairs Legal Affairs Policy, Research & Analysis Public Safety, Inspections, & Enforcement',\n",
       "  41061.0,\n",
       "  61847.0),\n",
       " ('Administration & Human Resources Engineering, Architecture, & Planning Policy, Research & Analysis',\n",
       "  63309.0,\n",
       "  105000.0),\n",
       " ('Engineering, Architecture, & Planning Technology, Data & Innovation',\n",
       "  47974.0,\n",
       "  194395.0),\n",
       " ('Administration & Human Resources Legal Affairs Public Safety, Inspections, & Enforcement',\n",
       "  40275.0,\n",
       "  46316.0),\n",
       " ('Administration & Human Resources Communications & Intergovernmental Affairs',\n",
       "  37251.0,\n",
       "  58478.0),\n",
       " ('Technology, Data & Innovation', 0.0, 234402.0),\n",
       " ('Administration & Human Resources Technology, Data & Innovation Policy, Research & Analysis',\n",
       "  62862.0,\n",
       "  63031.0),\n",
       " ('Health Public Safety, Inspections, & Enforcement', 15.0, 100719.0),\n",
       " ('Constituent Services & Community Programs Finance, Accounting, & Procurement Technology, Data & Innovation Policy, Research & Analysis',\n",
       "  60000.0,\n",
       "  63000.0),\n",
       " ('Constituent Services & Community Programs Finance, Accounting, & Procurement Policy, Research & Analysis Social Services',\n",
       "  31.3132,\n",
       "  86.1698),\n",
       " ('Administration & Human Resources Constituent Services & Community Programs Legal Affairs',\n",
       "  80000.0,\n",
       "  100000.0),\n",
       " ('Health Policy, Research & Analysis', 62272.0, 130939.0),\n",
       " ('Community & Business Services Social Services', 48895.0, 75900.0),\n",
       " ('Engineering, Architecture, & Planning Finance, Accounting, & Procurement Building Operations & Maintenance Public Safety, Inspections, & Enforcement',\n",
       "  175000.0,\n",
       "  209585.0),\n",
       " ('Administration & Human Resources Constituent Services & Community Programs Policy, Research & Analysis Social Services',\n",
       "  15.5,\n",
       "  115000.0),\n",
       " ('Administration & Human Resources Finance, Accounting, & Procurement Technology, Data & Innovation Building Operations & Maintenance Policy, Research & Analysis Public Safety, Inspections, & Enforcement',\n",
       "  78574.0,\n",
       "  158000.0),\n",
       " ('Engineering, Architecture, & Planning Building Operations & Maintenance',\n",
       "  486.72,\n",
       "  135000.0),\n",
       " ('Finance, Accounting, & Procurement Legal Affairs Policy, Research & Analysis',\n",
       "  46856.0,\n",
       "  114379.0),\n",
       " ('Health Building Operations & Maintenance Public Safety, Inspections, & Enforcement',\n",
       "  57148.0,\n",
       "  73039.0),\n",
       " ('Technology, Data & Innovation Legal Affairs', 41551.0, 74356.0),\n",
       " ('Constituent Services & Community Programs Legal Affairs', 41939.0, 58688.0),\n",
       " ('Finance, Accounting, & Procurement Policy, Research & Analysis Public Safety, Inspections, & Enforcement',\n",
       "  56013.0,\n",
       "  89610.0),\n",
       " ('Constituent Services & Community Programs Social Services',\n",
       "  28.7488,\n",
       "  110000.0),\n",
       " ('Administration & Human Resources Technology, Data & Innovation',\n",
       "  20.9814,\n",
       "  76677.0),\n",
       " ('Legal', 35213.0, 40495.0),\n",
       " ('Constituent Services & Community Programs Engineering, Architecture, & Planning Public Safety, Inspections, & Enforcement',\n",
       "  57078.0,\n",
       "  85646.0),\n",
       " ('Legal Affairs Policy, Research & Analysis', 0.0, 140000.0),\n",
       " ('Constituent Services & Community Programs Policy, Research & Analysis',\n",
       "  13.5,\n",
       "  103000.0),\n",
       " ('Constituent Services & Community Programs Technology, Data & Innovation Public Safety, Inspections, & Enforcement Social Services',\n",
       "  15.5,\n",
       "  15.5),\n",
       " ('Administration & Human Resources Constituent Services & Community Programs',\n",
       "  50000.0,\n",
       "  100000.0),\n",
       " ('Finance, Accounting, & Procurement', 0.0, 187000.0),\n",
       " ('Policy & Analysis Social Services', 60049.0, 89008.0),\n",
       " ('Constituent Services & Community Programs Communications & Intergovernmental Affairs',\n",
       "  40000.0,\n",
       "  140000.0),\n",
       " ('Communications & Intergovernmental Affairs Engineering, Architecture, & Planning Technology, Data & Innovation Policy, Research & Analysis',\n",
       "  115000.0,\n",
       "  135000.0),\n",
       " ('Administration & Human Resources Communications & Intergovernmental Affairs Legal Affairs Policy, Research & Analysis',\n",
       "  79620.0,\n",
       "  91563.0),\n",
       " ('Engineering, Architecture, & Planning Public Safety, Inspections, & Enforcement',\n",
       "  46010.0,\n",
       "  180000.0),\n",
       " ('Administration & Human Resources', 15.0, 178873.0),\n",
       " ('Building Operations & Maintenance Public Safety, Inspections, & Enforcement',\n",
       "  48.95,\n",
       "  95270.0),\n",
       " ('Administration & Human Resources Constituent Services & Community Programs Policy, Research & Analysis',\n",
       "  33875.0,\n",
       "  54879.0),\n",
       " ('Finance, Accounting, & Procurement Technology, Data & Innovation',\n",
       "  50078.0,\n",
       "  68244.0),\n",
       " ('Engineering, Architecture, & Planning', 45.49, 217244.0),\n",
       " ('Engineering, Architecture, & Planning Technology, Data & Innovation Public Safety, Inspections, & Enforcement',\n",
       "  69940.0,\n",
       "  186555.0),\n",
       " ('Legal Affairs Social Services', 62397.0, 72500.0),\n",
       " ('Technology, Data & Innovation Social Services', 36390.0, 153017.0),\n",
       " ('Finance, Accounting, & Procurement Policy, Research & Analysis',\n",
       "  40017.0,\n",
       "  156829.0),\n",
       " ('Administration & Human Resources Building Operations & Maintenance',\n",
       "  35330.0,\n",
       "  120000.0),\n",
       " ('Community & Business Services', 43118.0, 71000.0),\n",
       " ('Administration & Human Resources Health Public Safety, Inspections, & Enforcement',\n",
       "  33875.0,\n",
       "  54879.0),\n",
       " ('Constituent Services & Community Programs Communications & Intergovernmental Affairs Social Services',\n",
       "  56990.0,\n",
       "  150371.0),\n",
       " ('Policy, Research & Analysis', 0.0, 224749.0),\n",
       " ('Social Services', 27.1133, 145991.0),\n",
       " ('Constituent Services & Community Programs Health Social Services',\n",
       "  71321.0,\n",
       "  82019.0),\n",
       " ('Clerical & Administrative Support Policy & Analysis', 62260.0, 92704.0),\n",
       " ('Communications & Intergovernmental Affairs Technology, Data & Innovation',\n",
       "  65000.0,\n",
       "  85000.0),\n",
       " ('Technology, Data & Innovation Building Operations & Maintenance',\n",
       "  49741.0,\n",
       "  72478.0),\n",
       " ('Communications & Intergovernmental Affairs Policy, Research & Analysis Public Safety, Inspections, & Enforcement',\n",
       "  75000.0,\n",
       "  85000.0),\n",
       " ('Administration & Human Resources Health Technology, Data & Innovation',\n",
       "  0.0,\n",
       "  98818.92),\n",
       " ('Health Building Operations & Maintenance', 31921.0, 44974.0),\n",
       " ('Health Technology, Data & Innovation', 75000.0, 111000.0),\n",
       " ('Policy, Research & Analysis Public Safety, Inspections, & Enforcement',\n",
       "  43799.0,\n",
       "  103332.0),\n",
       " ('Administration & Human Resources Communications & Intergovernmental Affairs Public Safety, Inspections, & Enforcement',\n",
       "  31573.0,\n",
       "  36309.0),\n",
       " ('Communications & Intergovernmental Affairs', 16.0, 202744.0),\n",
       " ('Administration & Human Resources Policy, Research & Analysis',\n",
       "  44142.0,\n",
       "  185000.0),\n",
       " ('Administration & Human Resources Constituent Services & Community Programs Finance, Accounting, & Procurement Social Services',\n",
       "  58152.0,\n",
       "  66875.0),\n",
       " ('Administration & Human Resources Finance, Accounting, & Procurement Policy, Research & Analysis',\n",
       "  85000.0,\n",
       "  100000.0),\n",
       " ('Public Safety, Inspections, & Enforcement', 15.0224, 202744.0),\n",
       " ('Finance, Accounting, & Procurement Information Technology & Telecommunications',\n",
       "  43292.0,\n",
       "  53000.0),\n",
       " ('Finance, Accounting, & Procurement Social Services', 54638.0, 62834.0),\n",
       " ('Administration & Human Resources Public Safety, Inspections, & Enforcement',\n",
       "  30028.0,\n",
       "  170000.0),\n",
       " ('Technology, Data & Innovation Policy, Research & Analysis',\n",
       "  32850.0,\n",
       "  130000.0),\n",
       " ('Administration & Human Resources Policy, Research & Analysis Public Safety, Inspections, & Enforcement',\n",
       "  36677.0,\n",
       "  46000.0),\n",
       " ('Clerical & Administrative Support Community & Business Services',\n",
       "  53373.0,\n",
       "  72000.0),\n",
       " ('Administration & Human Resources Health', 44142.0, 83981.0),\n",
       " ('Constituent Services & Community Programs Engineering, Architecture, & Planning',\n",
       "  52524.0,\n",
       "  106222.0),\n",
       " ('Legal Policy & Analysis', 57005.0, 87027.0),\n",
       " ('Administration & Human Resources Constituent Services & Community Programs Communications & Intergovernmental Affairs Public Safety, Inspections, & Enforcement',\n",
       "  37217.0,\n",
       "  61936.0),\n",
       " ('Constituent Services & Community Programs Communications & Intergovernmental Affairs Policy, Research & Analysis',\n",
       "  55000.0,\n",
       "  234402.0),\n",
       " ('Finance, Accounting, & Procurement Policy & Analysis', 56458.0, 64927.0),\n",
       " ('Policy, Research & Analysis Public Safety, Inspections, & Enforcement Social Services',\n",
       "  57065.0,\n",
       "  65625.0),\n",
       " ('Communications & Intergovernmental Affairs Policy, Research & Analysis',\n",
       "  54643.0,\n",
       "  99000.0),\n",
       " ('Engineering, Architecture, & Planning Technology, Data & Innovation Policy, Research & Analysis',\n",
       "  75000.0,\n",
       "  85000.0),\n",
       " ('Administration & Human Resources Public Safety, Inspections, & Enforcement Social Services',\n",
       "  55150.0,\n",
       "  62320.0),\n",
       " ('Administration & Human Resources Constituent Services & Community Programs Social Services',\n",
       "  15.5,\n",
       "  15.5),\n",
       " ('Engineering, Architecture, & Planning Finance, Accounting, & Procurement',\n",
       "  48399.0,\n",
       "  178873.0),\n",
       " ('Legal Affairs Public Safety, Inspections, & Enforcement',\n",
       "  70000.0,\n",
       "  100000.0),\n",
       " ('Information Technology & Telecommunications', 45174.0, 134914.0),\n",
       " ('Communications & Intergovernmental Affairs Building Operations & Maintenance Social Services',\n",
       "  31573.0,\n",
       "  40962.0),\n",
       " ('Finance, Accounting, & Procurement Technology, Data & Innovation Policy, Research & Analysis',\n",
       "  44104.0,\n",
       "  66739.0)]"
      ]
     },
     "execution_count": 33,
     "metadata": {},
     "output_type": "execute_result"
    }
   ],
   "source": [
    "get_salary_distribution_per_job_category(df)"
   ]
  },
  {
   "cell_type": "markdown",
   "metadata": {},
   "source": [
    "**Is there any correlation between the higher degree and the salary?**"
   ]
  },
  {
   "cell_type": "code",
   "execution_count": 71,
   "metadata": {},
   "outputs": [],
   "source": [
    "from pyspark.sql.functions import when,instr\n",
    "df_target = df.withColumn('Degree Level', when(instr(col('Minimum Qual Requirements'), 'master''s degree') > 0, 2)\\\n",
    "                                        .when(instr(col('Minimum Qual Requirements'), 'baccalaureate degree') > 0, 1)\\\n",
    "                                         .otherwise(0))\n",
    "\n",
    "#df_target.select('Minimum Qual Requirements', 'Degree Level').show(truncate=False)"
   ]
  },
  {
   "cell_type": "code",
   "execution_count": 72,
   "metadata": {},
   "outputs": [
    {
     "data": {
      "text/plain": [
       "0.16851524924303374"
      ]
     },
     "execution_count": 72,
     "metadata": {},
     "output_type": "execute_result"
    }
   ],
   "source": [
    "df_target.corr('Degree Level', 'Salary Range To')"
   ]
  },
  {
   "cell_type": "code",
   "execution_count": 73,
   "metadata": {},
   "outputs": [
    {
     "data": {
      "text/plain": [
       "0.21567669052524574"
      ]
     },
     "execution_count": 73,
     "metadata": {},
     "output_type": "execute_result"
    }
   ],
   "source": [
    "df_target.corr('Degree Level', 'Salary Range From')"
   ]
  },
  {
   "cell_type": "markdown",
   "metadata": {},
   "source": [
    "The above exercise shows positive correlation between higher degree and the salary"
   ]
  },
  {
   "cell_type": "markdown",
   "metadata": {},
   "source": [
    "### Example of test function"
   ]
  },
  {
   "cell_type": "code",
   "execution_count": 24,
   "metadata": {},
   "outputs": [],
   "source": [
    "mock_data = [('A', 'Annual'), ('B', 'Daily')]\n",
    "expected_result = ['Annual', 'Daily']"
   ]
  },
  {
   "cell_type": "code",
   "execution_count": 25,
   "metadata": {},
   "outputs": [],
   "source": [
    "def test_get_salary_frequency(mock_data: list, \n",
    "                              expected_result: list,\n",
    "                              schema: list = ['id', 'Salary Frequency']):  \n",
    "    mock_df = spark.createDataFrame(data = mock_data, schema = schema)\n",
    "    assert get_salary_frequency(mock_df) == expected_result"
   ]
  },
  {
   "cell_type": "markdown",
   "metadata": {},
   "source": [
    "**Test : get_top10_jobs_posting_per_category**"
   ]
  },
  {
   "cell_type": "code",
   "execution_count": 39,
   "metadata": {},
   "outputs": [],
   "source": [
    "def test_get_top10_jobs_posting_per_category(mock_data: list, \n",
    "                              expected_result: list,\n",
    "                              schema: list = ['Job Category', 'Job Id']):\n",
    "    mock_df = spark.createDataFrame(data = mock_data, schema = schema)\n",
    "    assert sorted(get_top10_jobs_posting_per_category(mock_df)) == sorted(expected_result)"
   ]
  },
  {
   "cell_type": "code",
   "execution_count": 40,
   "metadata": {},
   "outputs": [],
   "source": [
    "mock_data = [('C1', 1), ('C1', 2), ('C1', 3),\n",
    "            ('C2', 4), ('C2', 5),\n",
    "            ('C3', 6), ('C3', 7), ('C3', 8),\n",
    "            ('C4', 9), ('C4', 10), ('C4', 11),\n",
    "            ('C5', 12), ('C5', 13), ('C5', 14),('C5', 15),\n",
    "            ('C6', 16), ('C6', 17), ('C6', 18),\n",
    "            ('C7', 19), ('C7', 20),\n",
    "            ('C8', 21), ('C8', 22), ('C8', 23),\n",
    "            ('C9', 24), ('C9', 25), ('C9', 26),('C9', 27), ('C9', 28),\n",
    "            ('C10', 29), ('C10', 30), ('C10', 31),\n",
    "            ('C11', 32)]\n",
    "expected_result = [('C9', 5),\n",
    "                  ('C5', 4),\n",
    "                  ('C6', 3),\n",
    "                  ('C4', 3),\n",
    "                  ('C10', 3),\n",
    "                  ('C3', 3),\n",
    "                  ('C8', 3),\n",
    "                  ('C1', 3),\n",
    "                  ('C7', 2),\n",
    "                  ('C2', 2)]\n",
    "\n",
    "schema = list = ['Job Category', 'Job Id']\n",
    "test_get_top10_jobs_posting_per_category(mock_data, expected_result, schema)"
   ]
  },
  {
   "cell_type": "markdown",
   "metadata": {},
   "source": [
    "**Test: get_salary_distribution_per_job_category**"
   ]
  },
  {
   "cell_type": "code",
   "execution_count": 44,
   "metadata": {},
   "outputs": [],
   "source": [
    "def test_get_salary_distribution_per_job_category(mock_data: list, \n",
    "                              expected_result: list,\n",
    "                              schema: StructType([StructField('Job Category', StringType(), True),StructField('Salary Range From', DoubleType(), True),\n",
    "    StructField('Salary Range To', DoubleType(), True),\n",
    "])):\n",
    "    mock_df = spark.createDataFrame(data = mock_data, schema = schema)\n",
    "    assert sorted(get_salary_distribution_per_job_category(mock_df)) == sorted(expected_result)"
   ]
  },
  {
   "cell_type": "code",
   "execution_count": 45,
   "metadata": {},
   "outputs": [],
   "source": [
    "mock_data = [('C1', 10.00, 20.00), ('C1', 15.00, 30.00), ('C1', 30.00, 40.00),\n",
    "            ('C2', 52.50, 60.00), ('C2', 63.00, 70.00), ('C2', 22.14, 30.00), ('C2', 21.14, 75.50),\n",
    "            ('C3', 900.00, 950.00), ('C3', 700.00, 760.00), ('C3', 810.00, 900.00)]\n",
    "expected_result = [('C1', 10.00, 40.00),\n",
    "                  ('C2', 21.14, 75.50),\n",
    "                  ('C3', 700.00, 950.00)]\n",
    "\n",
    "schema = StructType([\n",
    "    StructField('Job Category', StringType(), True),\n",
    "    StructField('Salary Range From', DoubleType(), True),\n",
    "    StructField('Salary Range To', DoubleType(), True),\n",
    "])\n",
    "test_get_salary_distribution_per_job_category(mock_data, expected_result, schema)"
   ]
  },
  {
   "cell_type": "code",
   "execution_count": null,
   "metadata": {},
   "outputs": [],
   "source": []
  }
 ],
 "metadata": {
  "kernelspec": {
   "display_name": "Python 3",
   "language": "python",
   "name": "python3"
  },
  "language_info": {
   "codemirror_mode": {
    "name": "ipython",
    "version": 3
   },
   "file_extension": ".py",
   "mimetype": "text/x-python",
   "name": "python",
   "nbconvert_exporter": "python",
   "pygments_lexer": "ipython3",
   "version": "3.7.3"
  }
 },
 "nbformat": 4,
 "nbformat_minor": 4
}
