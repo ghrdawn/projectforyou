{
 "cells": [
  {
   "cell_type": "code",
   "execution_count": 2,
   "metadata": {},
   "outputs": [],
   "source": [
    "import findspark\n",
    "findspark.init()"
   ]
  },
  {
   "cell_type": "code",
   "execution_count": 3,
   "metadata": {},
   "outputs": [],
   "source": [
    "from pyspark.sql import SparkSession\n",
    "\n",
    "spark = SparkSession.builder.master(\"local\"). \\\n",
    "    appName(\"pyspark-1\"). \\\n",
    "    getOrCreate()"
   ]
  },
  {
   "cell_type": "markdown",
   "metadata": {},
   "source": [
    "### Read data"
   ]
  },
  {
   "cell_type": "code",
   "execution_count": 4,
   "metadata": {},
   "outputs": [],
   "source": [
    "from pyspark.sql.types import StructType, StructField, StringType, IntegerType, DoubleType\n",
    "\n",
    "schema = StructType([\n",
    "    StructField('Job ID', StringType(), True),\n",
    "    StructField('Agency', StringType(), True),\n",
    "    StructField('Posting Type', StringType(), True),\n",
    "    StructField('# Of Positions', IntegerType(), True),\n",
    "    StructField('Business Title', StringType(), True),\n",
    "    StructField('Civil Service Title', StringType(), True),\n",
    "    StructField('Title Code No', StringType(), True),\n",
    "    StructField('Level', StringType(), True),\n",
    "    StructField('Job Category', StringType(), True),\n",
    "    StructField('Full-Time/Part-Time indicator', StringType(), True),\n",
    "    StructField('Salary Range From', DoubleType(), True),\n",
    "    StructField('Salary Range To', DoubleType(), True),\n",
    "    StructField('Salary Frequency', StringType(), True),\n",
    "    StructField('Work Location', StringType(), True),\n",
    "    StructField('Division/Work Unit', StringType(), True),\n",
    "    StructField('Job Description', StringType(), True),\n",
    "    StructField('Minimum Qual Requirements', StringType(), True),\n",
    "    StructField('Preferred Skills', StringType(), True),\n",
    "    StructField('Additional Information', StringType(), True),\n",
    "    StructField('To Apply', StringType(), True),\n",
    "    StructField('Hours/Shift', StringType(), True),\n",
    "    StructField('Work Location 1', StringType(), True),\n",
    "    StructField('Recruitment Contact', StringType(), True),\n",
    "    StructField('Residency Requirement', StringType(), True),\n",
    "    StructField('Posting Date', StringType(), True),\n",
    "    StructField('Post Until', StringType(), True),\n",
    "    StructField('Posting Updated', StringType(), True),\n",
    "    StructField('Process Date', StringType(), True)\n",
    "])"
   ]
  },
  {
   "cell_type": "code",
   "execution_count": 5,
   "metadata": {},
   "outputs": [
    {
     "name": "stdout",
     "output_type": "stream",
     "text": [
      "root\n",
      " |-- Job ID: string (nullable = true)\n",
      " |-- Agency: string (nullable = true)\n",
      " |-- Posting Type: string (nullable = true)\n",
      " |-- # Of Positions: integer (nullable = true)\n",
      " |-- Business Title: string (nullable = true)\n",
      " |-- Civil Service Title: string (nullable = true)\n",
      " |-- Title Code No: string (nullable = true)\n",
      " |-- Level: string (nullable = true)\n",
      " |-- Job Category: string (nullable = true)\n",
      " |-- Full-Time/Part-Time indicator: string (nullable = true)\n",
      " |-- Salary Range From: double (nullable = true)\n",
      " |-- Salary Range To: double (nullable = true)\n",
      " |-- Salary Frequency: string (nullable = true)\n",
      " |-- Work Location: string (nullable = true)\n",
      " |-- Division/Work Unit: string (nullable = true)\n",
      " |-- Job Description: string (nullable = true)\n",
      " |-- Minimum Qual Requirements: string (nullable = true)\n",
      " |-- Preferred Skills: string (nullable = true)\n",
      " |-- Additional Information: string (nullable = true)\n",
      " |-- To Apply: string (nullable = true)\n",
      " |-- Hours/Shift: string (nullable = true)\n",
      " |-- Work Location 1: string (nullable = true)\n",
      " |-- Recruitment Contact: string (nullable = true)\n",
      " |-- Residency Requirement: string (nullable = true)\n",
      " |-- Posting Date: string (nullable = true)\n",
      " |-- Post Until: string (nullable = true)\n",
      " |-- Posting Updated: string (nullable = true)\n",
      " |-- Process Date: string (nullable = true)\n",
      "\n"
     ]
    }
   ],
   "source": [
    "df = spark.read.csv(\"/dataset/nyc-jobs.csv\", header=True, schema=schema)\n",
    "df.printSchema()"
   ]
  },
  {
   "cell_type": "markdown",
   "metadata": {},
   "source": [
    "### Sample function"
   ]
  },
  {
   "cell_type": "code",
   "execution_count": 6,
   "metadata": {},
   "outputs": [],
   "source": [
    "from pyspark.sql import DataFrame\n",
    "from pyspark.sql.functions import col,max,min"
   ]
  },
  {
   "cell_type": "code",
   "execution_count": 20,
   "metadata": {},
   "outputs": [],
   "source": [
    "def get_salary_frequency(df: DataFrame) -> list:\n",
    "    row_list = df.select('Salary Frequency').distinct().collect()\n",
    "    return [row['Salary Frequency'] for row in row_list]"
   ]
  },
  {
   "cell_type": "markdown",
   "metadata": {},
   "source": [
    "**Whats the number of jobs posting per category (Top 10)?**"
   ]
  },
  {
   "cell_type": "code",
   "execution_count": 7,
   "metadata": {},
   "outputs": [],
   "source": [
    "def get_top10_jobs_posting_per_category(df: DataFrame) -> list:\n",
    "    job_posting_per_category = df.groupBy('Job Category').count().orderBy(col('count').desc())\n",
    "    return [(row[0], row[1]) for row in job_posting_per_category.take(10)]"
   ]
  },
  {
   "cell_type": "code",
   "execution_count": 8,
   "metadata": {},
   "outputs": [
    {
     "name": "stdout",
     "output_type": "stream",
     "text": [
      "+--------------------+------+\n",
      "|        Job Category|Job Id|\n",
      "+--------------------+------+\n",
      "|Engineering, Arch...|   504|\n",
      "|Technology, Data ...|   313|\n",
      "|       Legal Affairs|   226|\n",
      "|Public Safety, In...|   182|\n",
      "|Building Operatio...|   181|\n",
      "|Finance, Accounti...|   169|\n",
      "|Administration & ...|   134|\n",
      "|Constituent Servi...|   129|\n",
      "|              Health|   125|\n",
      "|Policy, Research ...|   124|\n",
      "+--------------------+------+\n",
      "\n"
     ]
    }
   ],
   "source": [
    "schema = list = ['Job Category', 'Job Id']\n",
    "result_data = get_top10_jobs_posting_per_category(df)\n",
    "result_df = spark.createDataFrame(data = result_data, schema = schema)\n",
    "result_df.show()\n",
    "result_df.coalesce(1).write.mode('overwrite').format('csv').save('resultset/get_top10_jobs_posting_per_category')"
   ]
  },
  {
   "cell_type": "markdown",
   "metadata": {},
   "source": [
    "**Whats the salary distribution per job category?**"
   ]
  },
  {
   "cell_type": "code",
   "execution_count": 9,
   "metadata": {},
   "outputs": [],
   "source": [
    "def get_salary_distribution_per_job_category(df: DataFrame) -> list:\n",
    "    salary_distribution_per_job_category = df.groupBy(col('Job Category'))\\\n",
    "                                            .agg(min(col('Salary Range From')).alias('Salary Range From')\\\n",
    "                                                 , max(col('Salary Range To')).alias('Salary Range To'))\n",
    "\n",
    "    return [(row[0], row[1], row[2]) for row in salary_distribution_per_job_category.collect()]"
   ]
  },
  {
   "cell_type": "code",
   "execution_count": 10,
   "metadata": {},
   "outputs": [
    {
     "name": "stdout",
     "output_type": "stream",
     "text": [
      "+--------------------+-----------------+---------------+\n",
      "|        Job Category|Salary Range From|Salary Range To|\n",
      "+--------------------+-----------------+---------------+\n",
      "|Administration & ...|          90000.0|       100000.0|\n",
      "|Health Policy, Re...|          82008.0|       180000.0|\n",
      "|Administration & ...|          54100.0|        83981.0|\n",
      "|Information Techn...|          68239.0|        85644.0|\n",
      "|Finance, Accounti...|          55659.0|        70390.0|\n",
      "|Engineering, Arch...|           539.12|       118610.0|\n",
      "|Legal Affairs Pol...|          54165.0|       168433.0|\n",
      "|Administration & ...|          45491.0|        60660.0|\n",
      "|Constituent Servi...|             15.5|       156829.0|\n",
      "|Building Operatio...|             15.5|       234402.0|\n",
      "|Engineering, Arch...|          69940.0|       186555.0|\n",
      "|Constituent Servi...|          52524.0|        81535.0|\n",
      "|Administration & ...|          65731.0|        75591.0|\n",
      "|       Legal Affairs|          19.9179|       208826.0|\n",
      "|Engineering, Arch...|             15.5|           19.9|\n",
      "|Finance, Accounti...|          38851.0|       133040.0|\n",
      "|Constituent Servi...|             15.5|           15.5|\n",
      "|Administration & ...|             15.5|           19.9|\n",
      "|Health Legal Affairs|          61237.0|        81801.0|\n",
      "|Administration & ...|          27.9267|        58987.0|\n",
      "+--------------------+-----------------+---------------+\n",
      "only showing top 20 rows\n",
      "\n"
     ]
    }
   ],
   "source": [
    "schema = StructType([\n",
    "    StructField('Job Category', StringType(), True),\n",
    "    StructField('Salary Range From', DoubleType(), True),\n",
    "    StructField('Salary Range To', DoubleType(), True),\n",
    "])\n",
    "result_data = get_salary_distribution_per_job_category(df)\n",
    "result_df = spark.createDataFrame(data = result_data, schema = schema)\n",
    "result_df.show()\n",
    "result_df.coalesce(1).write.mode('overwrite').format('csv').save('resultset/get_salary_distribution_per_job_category')"
   ]
  },
  {
   "cell_type": "markdown",
   "metadata": {},
   "source": [
    "**Is there any correlation between the higher degree and the salary?**"
   ]
  },
  {
   "cell_type": "code",
   "execution_count": 11,
   "metadata": {},
   "outputs": [],
   "source": [
    "from pyspark.sql.functions import when,instr"
   ]
  },
  {
   "cell_type": "code",
   "execution_count": 12,
   "metadata": {},
   "outputs": [],
   "source": [
    "def get_correlation_degree_level_salary(df: DataFrame) -> float:\n",
    "    df_target = df.withColumn('Degree Level', when(instr(col('Minimum Qual Requirements'), 'master''s degree') > 0, 2)\\\n",
    "                                            .when(instr(col('Minimum Qual Requirements'), 'baccalaureate degree') > 0, 1)\\\n",
    "                                             .otherwise(0))\n",
    "\n",
    "    return df_target.corr('Degree Level', 'Salary Range From')"
   ]
  },
  {
   "cell_type": "code",
   "execution_count": 13,
   "metadata": {},
   "outputs": [
    {
     "data": {
      "text/plain": [
       "0.21567669052524582"
      ]
     },
     "execution_count": 13,
     "metadata": {},
     "output_type": "execute_result"
    }
   ],
   "source": [
    "get_correlation_degree_level_salary(df)"
   ]
  },
  {
   "cell_type": "markdown",
   "metadata": {},
   "source": [
    "The above exercise shows positive correlation between higher degree and the salary"
   ]
  },
  {
   "cell_type": "markdown",
   "metadata": {},
   "source": [
    "**Whats the job posting having the highest salary per agency?**"
   ]
  },
  {
   "cell_type": "code",
   "execution_count": 62,
   "metadata": {},
   "outputs": [],
   "source": [
    "from pyspark.sql.functions import row_number, desc\n",
    "from pyspark.sql.window import Window"
   ]
  },
  {
   "cell_type": "code",
   "execution_count": 67,
   "metadata": {},
   "outputs": [],
   "source": [
    "def get_job_posting_having_highest_salary_per_agency(df: DataFrame) -> list:\n",
    "    windowSpec = Window.partitionBy('Agency').orderBy(desc('Salary Range To'))\n",
    "    df_with_rank = df.withColumn('RowNum', row_number().over(windowSpec))\n",
    "    job_posting_having_highest_salary_per_agency = df_with_rank.where(col('RowNum') == 1)\n",
    "    job_posting_having_highest_salary_per_agency = job_posting_having_highest_salary_per_agency\\\n",
    "                                                    .select('Agency', 'Posting Type', 'Salary Range To')\\\n",
    "                                                    .withColumnRenamed('Salary Range To', 'Max Salary')\n",
    "    return [(row[0], row[1], row[2]) for row in job_posting_having_highest_salary_per_agency.collect()]"
   ]
  },
  {
   "cell_type": "code",
   "execution_count": 68,
   "metadata": {},
   "outputs": [
    {
     "name": "stdout",
     "output_type": "stream",
     "text": [
      "+--------------------+------------+----------+\n",
      "|              Agency|Posting Type|Max Salary|\n",
      "+--------------------+------------+----------+\n",
      "|LANDMARKS PRESERV...|    Internal|   64297.0|\n",
      "|OFFICE OF COLLECT...|    Internal|     10.36|\n",
      "|     FIRE DEPARTMENT|    Internal|  144929.0|\n",
      "|ADMIN FOR CHILDRE...|    External|  156829.0|\n",
      "|MANHATTAN COMMUNI...|    Internal|      19.0|\n",
      "|      TAX COMMISSION|    Internal|   90177.0|\n",
      "|HRA/DEPT OF SOCIA...|    Internal|  153017.0|\n",
      "|TAXI & LIMOUSINE ...|    External|  160000.0|\n",
      "|EQUAL EMPLOY PRAC...|    External|   72712.0|\n",
      "|DEPARTMENT OF BUS...|    Internal|  162014.0|\n",
      "|DEPT OF DESIGN & ...|    Internal|  217244.0|\n",
      "|TEACHERS RETIREME...|    External|   75760.0|\n",
      "|DEPARTMENT OF COR...|    Internal|  145000.0|\n",
      "|FINANCIAL INFO SV...|    Internal|  150000.0|\n",
      "|OFFICE OF EMERGEN...|    Internal|   85000.0|\n",
      "|HOUSING PRESERVAT...|    External|  140000.0|\n",
      "|CIVILIAN COMPLAIN...|    External|  168433.0|\n",
      "|OFFICE OF MANAGEM...|    External|  117810.0|\n",
      "|MAYORS OFFICE OF ...|    Internal|  130000.0|\n",
      "|DEPT OF CITYWIDE ...|    External|  125000.0|\n",
      "+--------------------+------------+----------+\n",
      "only showing top 20 rows\n",
      "\n"
     ]
    }
   ],
   "source": [
    "schema = StructType([\n",
    "    StructField('Agency', StringType(), True),\n",
    "    StructField('Posting Type', StringType(), True),\n",
    "    StructField('Max Salary', DoubleType(), True)\n",
    "])\n",
    "result_data = get_job_posting_having_highest_salary_per_agency(df)\n",
    "result_df = spark.createDataFrame(data = result_data, schema = schema)\n",
    "result_df.show()\n",
    "result_df.coalesce(1).write.mode('overwrite').format('csv').save('resultset/get_job_posting_having_highest_salary_per_agency')"
   ]
  },
  {
   "cell_type": "markdown",
   "metadata": {},
   "source": [
    "**Whats the job positings average salary per agency for the last 2 years?**"
   ]
  },
  {
   "cell_type": "code",
   "execution_count": 100,
   "metadata": {},
   "outputs": [],
   "source": [
    "from pyspark.sql.functions import to_date, lit, avg"
   ]
  },
  {
   "cell_type": "code",
   "execution_count": 105,
   "metadata": {},
   "outputs": [],
   "source": [
    "def get_avg_salary_per_agency_for_last_2_years(df: DataFrame) -> list:\n",
    "    df_new = df.select('Agency', 'Salary Range From', 'Salary Range To', 'Posting Date')\n",
    "    df_new = df_new.select('Agency', 'Salary Range From', 'Salary Range To', to_date(col('Posting Date'), 'yyyy-MM-dd').alias('Posting Date'))\n",
    "    df_new = df_new.where(col('Posting Date') != 'null')\n",
    "    df_new = df_new.filter(col('Posting Date') > lit('2017-12-17'))\n",
    "    average_salary_per_agency = df_new.groupBy(col('Agency'))\\\n",
    "                                    .agg(avg(col('Salary Range From')).alias('Average Salary Range From')\\\n",
    "                                     , avg(col('Salary Range To')).alias('Average Salary Range To'))\n",
    "    return [(row[0], row[1], row[2]) for row in average_salary_per_agency.collect()]"
   ]
  },
  {
   "cell_type": "code",
   "execution_count": 107,
   "metadata": {},
   "outputs": [
    {
     "name": "stdout",
     "output_type": "stream",
     "text": [
      "+--------------------+-------------------------+-----------------------+\n",
      "|              Agency|Average Salary Range From|Average Salary Range To|\n",
      "+--------------------+-------------------------+-----------------------+\n",
      "|     FIRE DEPARTMENT|                 47113.89|               62235.89|\n",
      "|ADMIN FOR CHILDRE...|        57751.41176470588|      69569.11764705883|\n",
      "|MANHATTAN COMMUNI...|                     19.0|                   19.0|\n",
      "|      TAX COMMISSION|                 16432.75|               24479.95|\n",
      "|HRA/DEPT OF SOCIA...|                  55053.7|                66534.3|\n",
      "|TAXI & LIMOUSINE ...|       41189.463567741936|      52562.84839999999|\n",
      "|DEPARTMENT OF BUS...|       49631.088528571425|      70365.55927857143|\n",
      "|DEPT OF DESIGN & ...|              59553.84375|                96060.5|\n",
      "|TEACHERS RETIREME...|                  62397.0|                75760.0|\n",
      "|FINANCIAL INFO SV...|                  78496.3|               109492.7|\n",
      "|DEPARTMENT OF COR...|         58655.1094736842|      65726.76794736843|\n",
      "|HOUSING PRESERVAT...|        81018.35714285714|                88746.0|\n",
      "|CIVILIAN COMPLAIN...|                  38441.8|      69843.33333333333|\n",
      "|OFFICE OF MANAGEM...|                64099.125|      76001.78214285713|\n",
      "|MAYORS OFFICE OF ...|        75357.14285714286|      99357.14285714286|\n",
      "|DEPT OF CITYWIDE ...|       28444.928888888888|      39797.01777777777|\n",
      "|DEPARTMENT OF CIT...|                 46258.75|               51258.75|\n",
      "|ADMIN TRIALS AND ...|       21731.136288000005|      25629.65613600001|\n",
      "|DEPARTMENT OF SAN...|       19145.713999999996|      35897.23400000001|\n",
      "|DEPT. OF HOMELESS...|                  31573.0|                40962.0|\n",
      "+--------------------+-------------------------+-----------------------+\n",
      "only showing top 20 rows\n",
      "\n"
     ]
    }
   ],
   "source": [
    "schema = StructType([\n",
    "    StructField('Agency', StringType(), True),\n",
    "    StructField('Average Salary Range From', DoubleType(), True),\n",
    "    StructField('Average Salary Range To', DoubleType(), True)\n",
    "])\n",
    "result_data = get_avg_salary_per_agency_for_last_2_years(df)\n",
    "result_df = spark.createDataFrame(data = result_data, schema = schema)\n",
    "result_df.show()\n",
    "result_df.coalesce(1).write.mode('overwrite').format('csv').save('resultset/get_avg_salary_per_agency_for_last_2_years')"
   ]
  },
  {
   "cell_type": "markdown",
   "metadata": {},
   "source": [
    "**What are the highest paid skills in the US market?**"
   ]
  },
  {
   "cell_type": "code",
   "execution_count": 123,
   "metadata": {},
   "outputs": [],
   "source": [
    "def get_highest_paid_skills_list(df: DataFrame) -> list:\n",
    "    df_new = df.select('Preferred Skills', 'Salary Range To')\n",
    "    df_new = df_new.filter(~col('Preferred Skills').contains('ERROR'))\n",
    "    highest_paid_skills = df_new.groupBy(col('Preferred Skills')).agg(max(col('Salary Range To')).alias('Max Salary'))\\\n",
    "                .orderBy(col('Max Salary').desc())\n",
    "    return [(row[0], row[1]) for row in highest_paid_skills.collect()]"
   ]
  },
  {
   "cell_type": "code",
   "execution_count": 124,
   "metadata": {},
   "outputs": [
    {
     "name": "stdout",
     "output_type": "stream",
     "text": [
      "+--------------------+----------+\n",
      "|    Preferred Skills|Max Salary|\n",
      "+--------------------+----------+\n",
      "| \"\"2\"\" or \"\"3\"\" a...|  234402.0|\n",
      "| and one year of ...|  225217.0|\n",
      "|          commercial|  224749.0|\n",
      "| at least 18 mont...|  224749.0|\n",
      "|The Deputy Commis...|  218587.0|\n",
      "|Candidate must ha...|  217244.0|\n",
      "| all candidates m...|  209585.0|\n",
      "|â€¢\t10+ years of ...|  208826.0|\n",
      "|â€¢ Integrity â€“...|  202744.0|\n",
      "|          journalism|  202744.0|\n",
      "|Extensive experie...|  198518.0|\n",
      "|â€¢\tManagerial tr...|  194395.0|\n",
      "|â€¢ Expert knowle...|  194395.0|\n",
      "| including making...|  194395.0|\n",
      "|          managerial|  194395.0|\n",
      "|Certification/lic...|  192152.0|\n",
      "| all candidates m...|  192152.0|\n",
      "| \"\"b\"\" and \"\"c\"\" ...|  192152.0|\n",
      "|Required Skills: ...|  190000.0|\n",
      "|Strongly Preferre...|  187000.0|\n",
      "+--------------------+----------+\n",
      "only showing top 20 rows\n",
      "\n"
     ]
    }
   ],
   "source": [
    "schema = StructType([\n",
    "    StructField('Preferred Skills', StringType(), True),\n",
    "    StructField('Max Salary', DoubleType(), True)\n",
    "])\n",
    "result_data = get_highest_paid_skills_list(df)\n",
    "result_df = spark.createDataFrame(data = result_data, schema = schema)\n",
    "result_df.show()\n",
    "result_df.coalesce(1).write.mode('overwrite').format('csv').save('resultset/get_highest_paid_skills_list')"
   ]
  },
  {
   "cell_type": "markdown",
   "metadata": {},
   "source": [
    "### Example of test function"
   ]
  },
  {
   "cell_type": "code",
   "execution_count": 24,
   "metadata": {},
   "outputs": [],
   "source": [
    "mock_data = [('A', 'Annual'), ('B', 'Daily')]\n",
    "expected_result = ['Annual', 'Daily']"
   ]
  },
  {
   "cell_type": "code",
   "execution_count": 25,
   "metadata": {},
   "outputs": [],
   "source": [
    "def test_get_salary_frequency(mock_data: list, \n",
    "                              expected_result: list,\n",
    "                              schema: list = ['id', 'Salary Frequency']):  \n",
    "    mock_df = spark.createDataFrame(data = mock_data, schema = schema)\n",
    "    assert get_salary_frequency(mock_df) == expected_result"
   ]
  },
  {
   "cell_type": "markdown",
   "metadata": {},
   "source": [
    "**Test : get_top10_jobs_posting_per_category**"
   ]
  },
  {
   "cell_type": "code",
   "execution_count": 39,
   "metadata": {},
   "outputs": [],
   "source": [
    "def test_get_top10_jobs_posting_per_category(mock_data: list, \n",
    "                              expected_result: list,\n",
    "                              schema: list = ['Job Category', 'Job Id']):\n",
    "    mock_df = spark.createDataFrame(data = mock_data, schema = schema)\n",
    "    assert sorted(get_top10_jobs_posting_per_category(mock_df)) == sorted(expected_result)"
   ]
  },
  {
   "cell_type": "code",
   "execution_count": 40,
   "metadata": {},
   "outputs": [],
   "source": [
    "mock_data = [('C1', 1), ('C1', 2), ('C1', 3),\n",
    "            ('C2', 4), ('C2', 5),\n",
    "            ('C3', 6), ('C3', 7), ('C3', 8),\n",
    "            ('C4', 9), ('C4', 10), ('C4', 11),\n",
    "            ('C5', 12), ('C5', 13), ('C5', 14),('C5', 15),\n",
    "            ('C6', 16), ('C6', 17), ('C6', 18),\n",
    "            ('C7', 19), ('C7', 20),\n",
    "            ('C8', 21), ('C8', 22), ('C8', 23),\n",
    "            ('C9', 24), ('C9', 25), ('C9', 26),('C9', 27), ('C9', 28),\n",
    "            ('C10', 29), ('C10', 30), ('C10', 31),\n",
    "            ('C11', 32)]\n",
    "expected_result = [('C9', 5),\n",
    "                  ('C5', 4),\n",
    "                  ('C6', 3),\n",
    "                  ('C4', 3),\n",
    "                  ('C10', 3),\n",
    "                  ('C3', 3),\n",
    "                  ('C8', 3),\n",
    "                  ('C1', 3),\n",
    "                  ('C7', 2),\n",
    "                  ('C2', 2)]\n",
    "\n",
    "schema = list = ['Job Category', 'Job Id']\n",
    "test_get_top10_jobs_posting_per_category(mock_data, expected_result, schema)"
   ]
  },
  {
   "cell_type": "markdown",
   "metadata": {},
   "source": [
    "**Test: get_salary_distribution_per_job_category**"
   ]
  },
  {
   "cell_type": "code",
   "execution_count": 44,
   "metadata": {},
   "outputs": [],
   "source": [
    "def test_get_salary_distribution_per_job_category(mock_data: list, \n",
    "                              expected_result: list,\n",
    "                              schema: StructType([StructField('Job Category', StringType(), True),StructField('Salary Range From', DoubleType(), True),\n",
    "    StructField('Salary Range To', DoubleType(), True),\n",
    "])):\n",
    "    mock_df = spark.createDataFrame(data = mock_data, schema = schema)\n",
    "    assert sorted(get_salary_distribution_per_job_category(mock_df)) == sorted(expected_result)"
   ]
  },
  {
   "cell_type": "code",
   "execution_count": 45,
   "metadata": {},
   "outputs": [],
   "source": [
    "mock_data = [('C1', 10.00, 20.00), ('C1', 15.00, 30.00), ('C1', 30.00, 40.00),\n",
    "            ('C2', 52.50, 60.00), ('C2', 63.00, 70.00), ('C2', 22.14, 30.00), ('C2', 21.14, 75.50),\n",
    "            ('C3', 900.00, 950.00), ('C3', 700.00, 760.00), ('C3', 810.00, 900.00)]\n",
    "expected_result = [('C1', 10.00, 40.00),\n",
    "                  ('C2', 21.14, 75.50),\n",
    "                  ('C3', 700.00, 950.00)]\n",
    "\n",
    "schema = StructType([\n",
    "    StructField('Job Category', StringType(), True),\n",
    "    StructField('Salary Range From', DoubleType(), True),\n",
    "    StructField('Salary Range To', DoubleType(), True),\n",
    "])\n",
    "test_get_salary_distribution_per_job_category(mock_data, expected_result, schema)"
   ]
  },
  {
   "cell_type": "markdown",
   "metadata": {},
   "source": [
    "**Test: get_correlation_degree_level_salary - test whether the degree level has a positive correlation with salary**"
   ]
  },
  {
   "cell_type": "code",
   "execution_count": 18,
   "metadata": {},
   "outputs": [],
   "source": [
    "def test_get_correlation_degree_level_salary(mock_data: list,\n",
    "                              schema: StructType([StructField('Minimum Qual Requirements', StringType(), True),StructField('Salary Range From', DoubleType(), True)\n",
    "                            ])):\n",
    "    mock_df = spark.createDataFrame(data = mock_data, schema = schema)\n",
    "    assert get_correlation_degree_level_salary(mock_df) > 0"
   ]
  },
  {
   "cell_type": "code",
   "execution_count": 19,
   "metadata": {},
   "outputs": [],
   "source": [
    "mock_data = [('Has a master''s degree', 1000.00), ('Five years of industry training', 500.00),\n",
    "             ('Has a baccalaureate degree', 650.00),\n",
    "            ('Has baccalaureate degree and master''s degree', 900.00)]\n",
    "\n",
    "schema = StructType([\n",
    "    StructField('Minimum Qual Requirements', StringType(), True),\n",
    "    StructField('Salary Range From', DoubleType(), True)\n",
    "])\n",
    "test_get_correlation_degree_level_salary(mock_data, schema)"
   ]
  },
  {
   "cell_type": "markdown",
   "metadata": {},
   "source": [
    "**Test: get_job_posting_having_highest_salary_per_agency**"
   ]
  },
  {
   "cell_type": "code",
   "execution_count": 71,
   "metadata": {},
   "outputs": [],
   "source": [
    "def test_get_job_posting_having_highest_salary_per_agency(mock_data: list, \n",
    "                              expected_result: list,\n",
    "                              schema: StructType([StructField('Agency', StringType(), True),StructField('Posting Type', StringType(), True),\n",
    "    StructField('Salary Range To', DoubleType(), True),\n",
    "])):\n",
    "    mock_df = spark.createDataFrame(data = mock_data, schema = schema)\n",
    "    assert sorted(get_job_posting_having_highest_salary_per_agency(mock_df)) == sorted(expected_result)"
   ]
  },
  {
   "cell_type": "code",
   "execution_count": 72,
   "metadata": {},
   "outputs": [],
   "source": [
    "mock_data = [('A1', 'P1', 100.00), ('A1', 'P2', 150.00),\n",
    "            ('A2', 'P1', 60.00), ('A2', 'P2', 70.00), ('A2', 'P3', 30.00), ('A2', 'P4', 75.50),\n",
    "            ('A3', 'P1', 950.00), ('A3', 'P2', 760.00), ('A3', 'P3', 900.00)]\n",
    "expected_result = [('A1', 'P2', 150.00),\n",
    "                  ('A2', 'P4', 75.50),\n",
    "                  ('A3', 'P1', 950.00)]\n",
    "\n",
    "schema = StructType([\n",
    "    StructField('Agency', StringType(), True),\n",
    "    StructField('Posting Type', StringType(), True),\n",
    "    StructField('Salary Range To', DoubleType(), True),\n",
    "])\n",
    "test_get_job_posting_having_highest_salary_per_agency(mock_data, expected_result, schema)"
   ]
  },
  {
   "cell_type": "markdown",
   "metadata": {},
   "source": [
    "**Test: get_avg_salary_per_agency_for_last_2_years**"
   ]
  },
  {
   "cell_type": "code",
   "execution_count": 112,
   "metadata": {},
   "outputs": [],
   "source": [
    "def test_get_avg_salary_per_agency_for_last_2_years(mock_data: list, \n",
    "                              expected_result: list,\n",
    "                              schema: StructType([StructField('Agency', StringType(), True),StructField('Salary Range To', DoubleType(), True),\n",
    "    StructField('Salary Range To', DoubleType(), True), StructField('Posting Date', StringType(), True)\n",
    "])):\n",
    "    mock_df = spark.createDataFrame(data = mock_data, schema = schema)\n",
    "    assert sorted(get_avg_salary_per_agency_for_last_2_years(mock_df)) == sorted(expected_result)"
   ]
  },
  {
   "cell_type": "code",
   "execution_count": 114,
   "metadata": {},
   "outputs": [],
   "source": [
    "mock_data = [('A1', 80.00, 100.00, '2018-01-09T00:00:00.000'), ('A1', 85.00, 150.00, '2015-01-09T00:00:00.000'),\n",
    "            ('A2', 51.50, 60.00, '2018-01-09T00:00:00.000'), ('A2', 53.00, 70.00, '2019-01-09T00:00:00.000'), ('A2', 29.00, 30.00, '2018-01-09T00:00:00.000'),\n",
    "            ('A3', 910.00, 950.00, '2019-01-09T00:00:00.000'), ('A3', 700.00, 760.00, '2018-01-09T00:00:00.000'), ('A3', 800.00, 900.00, '2018-01-09T00:00:00.000')]\n",
    "expected_result = [('A1', 80.00, 100.00),\n",
    "                  ('A2', 44.5, 53.333333333333336),\n",
    "                  ('A3', 803.3333333333334, 870.0)]\n",
    "\n",
    "schema = StructType([\n",
    "    StructField('Agency', StringType(), True),\n",
    "    StructField('Salary Range From', DoubleType(), True),\n",
    "    StructField('Salary Range To', DoubleType(), True),\n",
    "    StructField('Posting Date', StringType(), True)\n",
    "])\n",
    "test_get_avg_salary_per_agency_for_last_2_years(mock_data, expected_result, schema)"
   ]
  },
  {
   "cell_type": "markdown",
   "metadata": {},
   "source": [
    "**Test: get_highest_paid_skills_list**"
   ]
  },
  {
   "cell_type": "code",
   "execution_count": 129,
   "metadata": {},
   "outputs": [],
   "source": [
    "def test_get_highest_paid_skills_list(mock_data: list, \n",
    "                              expected_result: list,\n",
    "                              schema: StructType([StructField('Preferred Skills', StringType(), True),\n",
    "    StructField('Salary Range To', DoubleType(), True)\n",
    "])):\n",
    "    mock_df = spark.createDataFrame(data = mock_data, schema = schema)\n",
    "    assert get_highest_paid_skills_list(mock_df) == expected_result"
   ]
  },
  {
   "cell_type": "code",
   "execution_count": 130,
   "metadata": {},
   "outputs": [],
   "source": [
    "mock_data = [('S1', 100.00), ('S1', 150.00),\n",
    "            ('S2', 60.00), ('S2',170.00), ('S2', 145.00),\n",
    "            ('S3', 150.00), ('S3', 160.00), ('S3', 171.50)]\n",
    "expected_result = [('S3', 171.50),\n",
    "                  ('S2', 170.00),\n",
    "                  ('S1', 150.00)]\n",
    "\n",
    "schema = StructType([\n",
    "    StructField('Preferred Skills', StringType(), True),\n",
    "    StructField('Salary Range To', DoubleType(), True)\n",
    "])\n",
    "test_get_highest_paid_skills_list(mock_data, expected_result, schema)"
   ]
  },
  {
   "cell_type": "code",
   "execution_count": null,
   "metadata": {},
   "outputs": [],
   "source": []
  }
 ],
 "metadata": {
  "kernelspec": {
   "display_name": "Python 3",
   "language": "python",
   "name": "python3"
  },
  "language_info": {
   "codemirror_mode": {
    "name": "ipython",
    "version": 3
   },
   "file_extension": ".py",
   "mimetype": "text/x-python",
   "name": "python",
   "nbconvert_exporter": "python",
   "pygments_lexer": "ipython3",
   "version": "3.7.3"
  }
 },
 "nbformat": 4,
 "nbformat_minor": 4
}
